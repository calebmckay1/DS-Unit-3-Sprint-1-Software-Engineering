{
 "cells": [
  {
   "cell_type": "code",
   "execution_count": 1,
   "metadata": {},
   "outputs": [
    {
     "name": "stdout",
     "output_type": "stream",
     "text": [
      "Looking in indexes: https://test.pypi.org/simple/\n",
      "Collecting lambdata-calebmckay1==0.0.1\n",
      "  Downloading https://test-files.pythonhosted.org/packages/24/0a/b50ef267facce1eed6115b73592308b05743dcb3061acdc5429050066b32/lambdata_calebmckay1-0.0.1-py3-none-any.whl (2.7 kB)\n",
      "Requirement already satisfied: numpy in /home/cjmckay7/anaconda3/lib/python3.7/site-packages (from lambdata-calebmckay1==0.0.1) (1.18.1)\n",
      "Requirement already satisfied: pandas in /home/cjmckay7/anaconda3/lib/python3.7/site-packages (from lambdata-calebmckay1==0.0.1) (1.0.4)\n",
      "Requirement already satisfied: python-dateutil>=2.6.1 in /home/cjmckay7/anaconda3/lib/python3.7/site-packages (from pandas->lambdata-calebmckay1==0.0.1) (2.8.1)\n",
      "Requirement already satisfied: pytz>=2017.2 in /home/cjmckay7/anaconda3/lib/python3.7/site-packages (from pandas->lambdata-calebmckay1==0.0.1) (2019.3)\n",
      "Requirement already satisfied: six>=1.5 in /home/cjmckay7/anaconda3/lib/python3.7/site-packages (from python-dateutil>=2.6.1->pandas->lambdata-calebmckay1==0.0.1) (1.14.0)\n",
      "Installing collected packages: lambdata-calebmckay1\n",
      "Successfully installed lambdata-calebmckay1-0.0.1\n",
      "Note: you may need to restart the kernel to use updated packages.\n"
     ]
    }
   ],
   "source": [
    "pip install -i https://test.pypi.org/simple/ lambdata-calebmckay1==0.0.1"
   ]
  },
  {
   "cell_type": "code",
   "execution_count": null,
   "metadata": {},
   "outputs": [],
   "source": []
  }
 ],
 "metadata": {
  "kernelspec": {
   "display_name": "Python 3",
   "language": "python",
   "name": "python3"
  },
  "language_info": {
   "codemirror_mode": {
    "name": "ipython",
    "version": 3
   },
   "file_extension": ".py",
   "mimetype": "text/x-python",
   "name": "python",
   "nbconvert_exporter": "python",
   "pygments_lexer": "ipython3",
   "version": "3.7.6"
  }
 },
 "nbformat": 4,
 "nbformat_minor": 4
}
